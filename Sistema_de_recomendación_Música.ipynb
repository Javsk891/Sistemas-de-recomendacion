{
  "nbformat": 4,
  "nbformat_minor": 0,
  "metadata": {
    "colab": {
      "provenance": [],
      "authorship_tag": "ABX9TyOs2GK1VTTXDXYW/f+mhZTM",
      "include_colab_link": true
    },
    "kernelspec": {
      "name": "python3",
      "display_name": "Python 3"
    },
    "language_info": {
      "name": "python"
    }
  },
  "cells": [
    {
      "cell_type": "markdown",
      "metadata": {
        "id": "view-in-github",
        "colab_type": "text"
      },
      "source": [
        "<a href=\"https://colab.research.google.com/github/Javsk891/Sistemas-de-recomendacion/blob/main/Sistema_de_recomendaci%C3%B3n_M%C3%BAsica.ipynb\" target=\"_parent\"><img src=\"https://colab.research.google.com/assets/colab-badge.svg\" alt=\"Open In Colab\"/></a>"
      ]
    },
    {
      "cell_type": "markdown",
      "source": [
        "#Sitema de recomendación de Música\n",
        "\n",
        "En este pryecto se utilizarán datos de Last.fm obtenidos desde el siguiente link  https://bradfordtuckfield.com/lastfm-matrix-germany.csv\". Este ditio web permite a las personas escuchar musica online. Para este caso, los 'items' en nuestra matriz de interacciones serán los artitas que interpretan las cansiones, un '1' en la matrix de interacciones indicará que el ususario ha escuchado determinado artista, en caso contrario, un '0' en la matrix de interacciones indicará que el usuario no ha escuchado al artista.\n",
        "\n",
        "Comenzamos por importar los datos y organizarlos dentro de un DataFrame de Pandas"
      ],
      "metadata": {
        "id": "p2kUFNIRw5QA"
      }
    },
    {
      "cell_type": "code",
      "execution_count": 7,
      "metadata": {
        "colab": {
          "base_uri": "https://localhost:8080/"
        },
        "id": "ZuYMsJg0w13i",
        "outputId": "9df0e4f2-9aa3-4ea4-832f-48e89db81e33"
      },
      "outputs": [
        {
          "output_type": "stream",
          "name": "stdout",
          "text": [
            "   user  a perfect circle  abba  ac/dc  adam green  aerosmith  afi  air  \\\n",
            "0     1                 0     0      0           0          0    0    0   \n",
            "1    33                 0     0      0           1          0    0    0   \n",
            "2    42                 0     0      0           0          0    0    0   \n",
            "3    51                 0     0      0           0          0    0    0   \n",
            "4    62                 0     0      0           0          0    0    0   \n",
            "\n",
            "   alanis morissette  alexisonfire  ...  timbaland  tom waits  tool  \\\n",
            "0                  0             0  ...          0          0     0   \n",
            "1                  0             0  ...          0          0     0   \n",
            "2                  0             0  ...          0          0     0   \n",
            "3                  0             0  ...          0          0     0   \n",
            "4                  0             0  ...          0          0     0   \n",
            "\n",
            "   tori amos  travis  trivium  u2  underoath  volbeat  yann tiersen  \n",
            "0          0       0        0   0          0        0             0  \n",
            "1          0       0        0   0          0        0             0  \n",
            "2          0       0        0   0          0        0             0  \n",
            "3          0       0        0   0          0        0             0  \n",
            "4          0       0        0   0          0        0             0  \n",
            "\n",
            "[5 rows x 286 columns]\n"
          ]
        }
      ],
      "source": [
        "import pandas as pd #Importamos la libraría Pandas que nos permite acceder a los datos\n",
        "last_fm = pd.read_csv('https://bradfordtuckfield.com/lastfm-matrix-germany.csv') #Creamos la variable 'last_fm' y ponemos nuestros datos allí\n",
        "print(last_fm.head()) #Visualizamos los datos obtenidos"
      ]
    },
    {
      "cell_type": "code",
      "source": [
        "last_fm.drop(['user'], axis = 1, inplace = True) #Hacemos que la columna 'user' se comvierta en el índice de nuestro dataset"
      ],
      "metadata": {
        "id": "ViY_yN-xyzlg"
      },
      "execution_count": 8,
      "outputs": []
    },
    {
      "cell_type": "markdown",
      "source": [
        "Antes de continuar, nota la diferencia entre la matrix de interacciones del ejemplo más sencillo que se planteó antes dentro de este repositorío y la matriz de interacciones que obtenemos en este caso de estudio, aquí, las columnas corresponden a los items y las filas corresponden a los usuarios.\n",
        "\n",
        "Entonces, debemos trabajar con una transpuesta de dicha matrix de interacciones para facilitar el procesamiento de los datos"
      ],
      "metadata": {
        "id": "8O12TvwLzygW"
      }
    },
    {
      "cell_type": "code",
      "source": [
        "last_fm.shape"
      ],
      "metadata": {
        "id": "gulpHLW60_sg",
        "outputId": "375b8ee5-164a-4be2-89ee-0c6d479e0299",
        "colab": {
          "base_uri": "https://localhost:8080/"
        }
      },
      "execution_count": 12,
      "outputs": [
        {
          "output_type": "execute_result",
          "data": {
            "text/plain": [
              "(1257, 285)"
            ]
          },
          "metadata": {},
          "execution_count": 12
        }
      ]
    },
    {
      "cell_type": "code",
      "source": [
        "last_fmt = last_fm.T\n",
        "last_fmt.shape"
      ],
      "metadata": {
        "id": "SCzRdAHLzxw6",
        "outputId": "f6bb2695-84db-4e67-879c-876c1f79571f",
        "colab": {
          "base_uri": "https://localhost:8080/"
        }
      },
      "execution_count": 11,
      "outputs": [
        {
          "output_type": "execute_result",
          "data": {
            "text/plain": [
              "(285, 1257)"
            ]
          },
          "metadata": {},
          "execution_count": 11
        }
      ]
    },
    {
      "cell_type": "markdown",
      "source": [
        "Observando la forma de nuestra matriz, podemos observar que en este caso vamos a estar trabajando con datos que nos brindan información sobre 1257 usuarios y 285 artitas y sus respectivas interacciones."
      ],
      "metadata": {
        "id": "GNlriIP_1FOW"
      }
    },
    {
      "cell_type": "markdown",
      "source": [
        "#Creación del sistema de recomendación\n",
        "\n",
        "En lo que sigue reutilizaremos el código que ya hemos desarrollado en el ejemplo sencillo de sistemas de recomendación que se encuntra en este mismo repositorio de GitHub. Para ver el código explicado de una forma más sencilla y clara puede ingresar al ejemplo en donde se explica paso a paso desde el calculo de la similaridad coseno, hasta la creación de cada una de las funciones utilizadas"
      ],
      "metadata": {
        "id": "s_vx6Cw42QRY"
      }
    },
    {
      "cell_type": "code",
      "source": [
        "#Rating de productos\n",
        "conteo_interacciones = last_fmt.copy()\n",
        "conteo_interacciones.loc[:, 'conteo'] = conteo_interacciones.sum(axis = 1) #Toma la suma de de los productos seleccionados en cada fila y guarda el resultado en una nueva columna llamada conteo\n",
        "conteo_interacciones = conteo_interacciones.sort_values(by='conteo', ascending = False) #Organiza las filas de la más a la menos popular\n",
        "print(list(conteo_interacciones.index)) #Imprimimos el rating de los productos"
      ],
      "metadata": {
        "id": "57GlB_oJ2aAU",
        "outputId": "96227583-2bb2-44d0-9110-104b63ea4976",
        "colab": {
          "base_uri": "https://localhost:8080/"
        }
      },
      "execution_count": 14,
      "outputs": [
        {
          "output_type": "stream",
          "name": "stdout",
          "text": [
            "['linkin park', 'coldplay', 'red hot chili peppers', 'rammstein', 'system of a down', 'metallica', 'die toten hosen', 'billy talent', 'the killers', 'the beatles', 'jack johnson', 'muse', 'beatsteaks', 'nirvana', 'foo fighters', 'radiohead', 'placebo', 'arctic monkeys', 'evanescence', 'bloc party', 'rise against', 'the kooks', 'mando diao', 'the white stripes', 'deichkind', 'incubus', 'farin urlaub', 'in flames', 'clueso', 'peter fox', 'the offspring', 'air', 'subway to sally', 'nightwish', 'the prodigy', 'disturbed', 'green day', 'johnny cash', 'ac/dc', 'kings of leon', 'depeche mode', 'amy winehouse', 'bullet for my valentine', 'in extremo', 'blink-182', 'slipknot', 'death cab for cutie', 'daft punk', 'limp bizkit', 'sum 41', 'schandmaul', 'fall out boy', 'kanye west', 'tenacious d', 'seeed', 'rihanna', 'papa roach', 'portishead', 'rage against the machine', 'franz ferdinand', 'nelly furtado', 'marilyn manson', 'queen', 'bob marley', 'feist', 'queens of the stone age', 'massive attack', 'iron maiden', 'avril lavigne', 'amon amarth', 'oasis', 'nine inch nails', 'apocalyptica', 'gorillaz', 'children of bodom', 'pink floyd', 'snow patrol', 'as i lay dying', 'my chemical romance', 'blind guardian', 'mgmt', 'the hives', 'moby', 'the strokes', 'the cure', 'madonna', 'the rolling stones', 'the doors', 'killswitch engage', 'ensiferum', 'die apokalyptischen reiter', 'tool', 'justin timberlake', 'the subways', 'eminem', 'stone sour', 'norah jones', 'paramore', 'r.e.m.', 'timbaland', 'breaking benjamin', 'dropkick murphys', 'bad religion', 'nickelback', 'bjork', 'kate nash', 'michael jackson', 'pink', 'amy macdonald', 'bloodhound gang', 'equilibrium', 'u2', 'good charlotte', 'kaiser chiefs', 'interpol', 'modest mouse', 'him', 'bob dylan', 'the shins', 'the chemical brothers', 'atreyu', 'david guetta', 'heaven shall burn', 'manu chao', 'slayer', 'the smashing pumpkins', 'pearl jam', 'jimi hendrix', 'jimmy eat world', 'black eyed peas', 'three days grace', 'beck', 'adam green', 'nofx', 'scooter', 'beastie boys', 'volbeat', 'finntroll', 'justice', 'britney spears', 'silverstein', 'lostprophets', 'cascada', 'christina aguilera', 'damien rice', 'the fratellis', 'hans zimmer', 'goldfrapp', 'razorlight', 'digitalism', 'robbie williams', 'dredg', 'the smiths', 'opeth', 'korpiklaani', 'tom waits', 'black sabbath', 'babyshambles', 'eluveitie', 'afi', 'motorhead', 'morcheeba', 'trivium', 'abba', 'the notwist', 'lady gaga', 'the streets', 'joy division', 'jose gonzalez', 'led zeppelin', 'ramones', 'james blunt', 'the used', 'enter shikari', 'elvis presley', 'flogging molly', 'editors', 'simple plan', 'dimmu borgir', 'hammerfall', 'jamiroquai', 'alicia keys', 'panic at the disco', 'anti-flag', 'jason mraz', 'arcade fire', 'kelly clarkson', 'belle and sebastian', 'sufjan stevens', 'parkway drive', 'soilwork', 'a perfect circle', 'eels', 'judas priest', 'bright eyes', 'katy perry', 'mika', 'maria mena', 'frank sinatra', 'nouvelle vague', 'alexisonfire', 'hatebreed', 'nada surf', 'deftones', 'machine head', 'audioslave', 'millencolin', 'caliban', 'howard shore', 'dire straits', 'regina spektor', 'eric clapton', 'atb', 'arch enemy', 'david bowie', 'boards of canada', 'bob marley & the wailers', 'keane', 'kings of convenience', 'oomph!', 'travis', 'blur', 'tegan and sara', 'thievery corporation', 'alanis morissette', 'duffy', 'james morrison', 'beyonce', 'the fray', 'manowar', 'leona lewis', 'dream theater', 'genesis', 'jay-z', 'guano apes', 'sonata arctica', 'the clash', 'mogwai', 'the pussycat dolls', 'the libertines', 'cocorosie', 'crystal castles', 'cypress hill', 'tori amos', 'dark tranquillity', 'aerosmith', 'hot chip', 'lily allen', 'flyleaf', 'faithless', 'lenny kravitz', 'stars', 'the wombats', 'katie melua', 'gentleman', 'sonic syndicate', 'staind', 'guns n roses', 'cat power', 'the postal service', 'porcupine tree', 'all that remains', 'underoath', 'beirut', 'elliott smith', 'bring me the horizon', 'the decemberists', 'hoobastank', 'serj tankian', 'seether', 'yann tiersen', 'the ting tings', 'deep purple', 'dido', 'funeral for a friend', 'the national', 'bruce springsteen', 'aphex twin', 'godsmack', 'groove coverage', 'rob zombie', 'chimaira', 'kreator', 'lacuna coil', 'misfits']\n"
          ]
        }
      ]
    },
    {
      "cell_type": "code",
      "source": [
        "###############################################################################\n",
        "############################# Similitud Coseno ################################\n",
        "###############################################################################\n",
        "\n",
        "#Producto Punto\n",
        "def el_producto_punto(vector1, vector2):\n",
        "  producto_punto = np.sum([vector1[k]*vector2[k] for k in range(0, len(vector1))])\n",
        "  return(producto_punto)"
      ],
      "metadata": {
        "id": "X1SCBP-K2hOt"
      },
      "execution_count": 15,
      "outputs": []
    },
    {
      "cell_type": "code",
      "source": [
        "#Creando el sistema de recomendaciones\n",
        "def popularidad(interacciones): #Creamos la función para determinar la popularidad de los productos\n",
        "  conteo_interacciones = last_fmt.copy() #Creamos una copia de la matriz de interacciones\n",
        "  conteo_interacciones.loc[:, 'conteo'] = conteo_interacciones.sum(axis = 1)\n",
        "  ranking = conteo_interacciones.sort_values(by = 'conteo', ascending = False) #Aquí obtenemos el ranking ene orden ascendente de los productos más populares\n",
        "  mas_populares = list(ranking.set_index)\n",
        "  return(mas_populares)"
      ],
      "metadata": {
        "id": "jqG9qF0u2ame"
      },
      "execution_count": 16,
      "outputs": []
    },
    {
      "cell_type": "code",
      "source": [
        "#Norma del vector\n",
        "def vector_norm(vector):\n",
        "  norma = np.sqrt(el_producto_punto(vector, vector))\n",
        "  return(norma)"
      ],
      "metadata": {
        "id": "iIPLAZAe2jVG"
      },
      "execution_count": 17,
      "outputs": []
    },
    {
      "cell_type": "code",
      "source": [
        "#Similaridad Coseno\n",
        "def similaridad_coseno(vector1, vector2):\n",
        "  producto_punto = el_producto_punto(vector1, vector2)\n",
        "  coseno = producto_punto/(vector_norm(vector1)*vector_norm(vector2))\n",
        "  coseno = np.round(coseno, 4)\n",
        "  return(coseno)"
      ],
      "metadata": {
        "id": "ycrbuRhq2lSI"
      },
      "execution_count": 18,
      "outputs": []
    },
    {
      "cell_type": "code",
      "source": [
        "articulo_de_interes = 'abba' #Creamos la variable 'articulo_de_interes' para almacenar el item de interes que ya se conoce sobre el nuevo cliente\n",
        "otros_articulos = [nombre_articulo for nombre_articulo in last_fmt.index if nombre_articulo != articulo_de_interes]\n",
        "otros_articulos = last_fmt.loc[otros_articulos, :]\n",
        "el_articulo = last_fmt.loc[articulo_de_interes, :]"
      ],
      "metadata": {
        "id": "JyI7hry72qt8"
      },
      "execution_count": 22,
      "outputs": []
    },
    {
      "cell_type": "code",
      "source": [
        "similaridades = [] #Creamos una lista vacia en donde se almacenarán los artiuclos similares que deberían recomendarse al nuevo cliente\n",
        "for articulos in otros_articulos.index:\n",
        "  similaridades.append(similaridad_coseno(el_articulo, otros_articulos.loc[articulos, :]))\n",
        "\n",
        "otros_articulos['Similaridades'] = similaridades\n",
        "recomendaciones = list(otros_articulos.sort_values(by = 'Similaridades', ascending = False).index)"
      ],
      "metadata": {
        "id": "LEsVP3pT2skM"
      },
      "execution_count": 23,
      "outputs": []
    },
    {
      "cell_type": "code",
      "source": [
        "def recomendación_articulos(last_fmt, nombre_articulo):\n",
        "  otras_filas = [nombre_articulo_rec for nombre_articulo_rec in last_fmt.index if nombre_articulo_rec != nombre_articulo]\n",
        "  otros_articulos = last_fmt.loc[otras_filas, :]\n",
        "  el_articulo = list(last_fmt.loc[nombre_articulo, :])\n",
        "  similaridades = []\n",
        "  for articulos in otros_articulos.index: # Iteración sobre el índice del dataframe\n",
        "    similaridades.append(similaridad_coseno(el_articulo, otros_articulos.loc[articulos, :]))\n",
        "  otros_articulos['Similaridades'] = similaridades\n",
        "  return list(otros_articulos.sort_values(by = 'Similaridades', ascending = False).index)"
      ],
      "metadata": {
        "id": "c1M87q4P0pbg"
      },
      "execution_count": 27,
      "outputs": []
    },
    {
      "cell_type": "markdown",
      "source": [
        "Aquí podemos visualizar la lista de los artistas que se recomiendan a un usuario del que se sabe previamente que le gusta el artista 'abba'"
      ],
      "metadata": {
        "id": "Wqh-qYmX4xDz"
      }
    },
    {
      "cell_type": "code",
      "source": [
        "print(recomendación_articulos(last_fmt, 'abba'))"
      ],
      "metadata": {
        "id": "kTkt_pmB36Gs",
        "outputId": "720f2194-7e1d-41b5-b62e-c8a45ff3dcc6",
        "colab": {
          "base_uri": "https://localhost:8080/"
        }
      },
      "execution_count": 28,
      "outputs": [
        {
          "output_type": "stream",
          "name": "stdout",
          "text": [
            "['madonna', 'robbie williams', 'elvis presley', 'michael jackson', 'queen', 'the beatles', 'kelly clarkson', 'groove coverage', 'duffy', 'mika', 'rihanna', 'britney spears', 'christina aguilera', 'nightwish', 'amy macdonald', 'atb', 'howard shore', 'frank sinatra', 'coldplay', 'depeche mode', 'avril lavigne', 'hans zimmer', 'scooter', 'deep purple', 'dido', 'u2', 'pink', 'stars', 'kate nash', 'the pussycat dolls', 'dream theater', 'tegan and sara', 'clueso', 'jason mraz', 'james blunt', 'green day', 'norah jones', 'r.e.m.', 'justin timberlake', 'metallica', 'the rolling stones', 'mgmt', 'bruce springsteen', 'mando diao', 'beirut', 'pink floyd', 'katie melua', 'porcupine tree', 'faithless', 'lily allen', 'tori amos', 'aerosmith', 'hot chip', 'genesis', 'beyonce', 'leona lewis', 'nelly furtado', 'linkin park', 'eric clapton', 'david bowie', 'dire straits', 'keane', 'daft punk', 'panic at the disco', 'die toten hosen', 'led zeppelin', 'amy winehouse', 'black sabbath', 'johnny cash', 'ac/dc', 'cascada', 'justice', 'beastie boys', 'peter fox', 'david guetta', 'the shins', 'evanescence', 'good charlotte', 'nickelback', 'jack johnson', 'moby', 'iron maiden', 'massive attack', 'feist', 'bob marley', 'papa roach', 'tenacious d', 'limp bizkit', 'rammstein', 'red hot chili peppers', 'bullet for my valentine', 'the prodigy', 'the offspring', 'deichkind', 'the ting tings', 'hoobastank', 'elliott smith', 'serj tankian', 'bloc party', 'guns n roses', 'placebo', 'lenny kravitz', 'the postal service', 'sonata arctica', 'cypress hill', 'nirvana', 'james morrison', 'the fray', 'muse', 'alanis morissette', 'travis', 'blur', 'bob marley & the wailers', 'billy talent', 'nada surf', 'nouvelle vague', 'the killers', 'eels', 'sufjan stevens', 'soilwork', 'hammerfall', 'editors', 'jamiroquai', 'simple plan', 'joy division', 'the notwist', 'the streets', 'morcheeba', 'the smiths', 'razorlight', 'goldfrapp', 'digitalism', 'damien rice', 'volbeat', 'adam green', 'black eyed peas', 'jimi hendrix', 'pearl jam', 'the smashing pumpkins', 'the chemical brothers', 'bob dylan', 'kaiser chiefs', 'bloodhound gang', 'paramore', 'bad religion', 'stone sour', 'the subways', 'eminem', 'the cure', 'blind guardian', 'my chemical romance', 'snow patrol', 'oasis', 'gorillaz', 'franz ferdinand', 'portishead', 'kanye west', 'seeed', 'schandmaul', 'in extremo', 'air', 'in flames', 'incubus', 'rise against', 'the kooks', 'arctic monkeys', 'radiohead', 'foo fighters', 'system of a down', 'the used', 'silverstein', 'the white stripes', 'the wombats', 'thievery corporation', 'three days grace', 'timbaland', 'tool', 'trivium', 'underoath', 'tom waits', 'the fratellis', 'the strokes', 'regina spektor', 'slayer', 'slipknot', 'seether', 'rob zombie', 'sonic syndicate', 'staind', 'sum 41', 'the clash', 'queens of the stone age', 'ramones', 'the decemberists', 'rage against the machine', 'the doors', 'the hives', 'the libertines', 'the national', 'subway to sally', 'a perfect circle', 'parkway drive', 'boards of canada', 'bright eyes', 'bring me the horizon', 'caliban', 'cat power', 'children of bodom', 'chimaira', 'cocorosie', 'crystal castles', 'dark tranquillity', 'death cab for cutie', 'deftones', 'die apokalyptischen reiter', 'dimmu borgir', 'disturbed', 'dredg', 'dropkick murphys', 'eluveitie', 'breaking benjamin', 'blink-182', 'enter shikari', 'bjork', 'afi', 'alexisonfire', 'alicia keys', 'all that remains', 'amon amarth', 'anti-flag', 'aphex twin', 'apocalyptica', 'arcade fire', 'arch enemy', 'as i lay dying', 'atreyu', 'audioslave', 'babyshambles', 'beatsteaks', 'beck', 'belle and sebastian', 'ensiferum', 'equilibrium', 'opeth', 'kings of leon', 'kreator', 'lacuna coil', 'lady gaga', 'lostprophets', 'machine head', 'manowar', 'manu chao', 'maria mena', 'marilyn manson', 'millencolin', 'misfits', 'modest mouse', 'mogwai', 'motorhead', 'nine inch nails', 'nofx', 'oomph!', 'korpiklaani', 'kings of convenience', 'fall out boy', 'killswitch engage', 'farin urlaub', 'finntroll', 'flogging molly', 'flyleaf', 'funeral for a friend', 'gentleman', 'godsmack', 'guano apes', 'hatebreed', 'heaven shall burn', 'him', 'interpol', 'jay-z', 'jimmy eat world', 'jose gonzalez', 'judas priest', 'katy perry', 'yann tiersen']\n"
          ]
        }
      ]
    }
  ]
}