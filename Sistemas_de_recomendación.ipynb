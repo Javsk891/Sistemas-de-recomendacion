{
  "nbformat": 4,
  "nbformat_minor": 0,
  "metadata": {
    "colab": {
      "provenance": [],
      "authorship_tag": "ABX9TyN8k3iTB9xozwBBGTmjvb/u",
      "include_colab_link": true
    },
    "kernelspec": {
      "name": "python3",
      "display_name": "Python 3"
    },
    "language_info": {
      "name": "python"
    }
  },
  "cells": [
    {
      "cell_type": "markdown",
      "metadata": {
        "id": "view-in-github",
        "colab_type": "text"
      },
      "source": [
        "<a href=\"https://colab.research.google.com/github/Javsk891/Sistemas-de-recomendacion/blob/main/Sistemas_de_recomendaci%C3%B3n.ipynb\" target=\"_parent\"><img src=\"https://colab.research.google.com/assets/colab-badge.svg\" alt=\"Open In Colab\"/></a>"
      ]
    },
    {
      "cell_type": "markdown",
      "source": [
        "<h1>Sistemas de recomendación<h1>\n",
        "\n",
        "Este notebook de Python implementa un sistema de recomendación sencillo, en donde se pretende exponer de forma clara y concisa los conceptos y el código para el desarrollo de un sistema de recomendación de productos para clientes, que podría ser usado en entornos de e-commerce, paginas de drop.shipping o incluso en tiendas con stock in-situ.\n",
        "\n",
        "El sistema de recomendación es una herramienta poderos en los entornos antes mencionados ya que nos permite de antemano sugerir productos que podrían ser potencialmente comprados por los clientes, mejorando así la experiencia de los mismos y ayuadando a mejorar el desempeño en las ventas de nuestro negocio.\n",
        "\n",
        "A continuación se explica y desarrolla código para dos sistemas sencillos de recomendació; uno en el que se desconoce totalmente las preferneicas del cliente (sistema de arranque en frío) y otro en el que de antemano, se conoce la preferencia del ususario por un producto en particular.\n",
        "\n",
        "El caso de estudio es bastante sencillo, pues el objetivo es conocer previamente los conceptos, librerías y funciones que se ussan en este tipo de desarrollo, para que luego puedan ser utilizados en sistemas de recomendación mas robustos y sofisticados"
      ],
      "metadata": {
        "id": "GfeUHfahsl6F"
      }
    },
    {
      "cell_type": "markdown",
      "source": [
        "#Recomendaciones basada en popularidad\n",
        "\n",
        "Para este caso, el más sencilllo, cuando trabajamos con sistemas de recomendación, no se cononce inicialmente nada a cerca del ususario, entonces se procede simplemente a recomendar los articulos según su popularidad reflejada a través de las calificaiones que otros usuarios han hecho sobre el articulo o producto.\n",
        "\n",
        "Esta dilema, cuando se quiere ahcer una recomendación sin tener un conocimiento previo a cerca del cliente es conocido como: \"Cold start problem\" o en español; problema de arranque en frío.\n",
        "\n",
        "En este caso, no se tienen los elementos para hacer ningún tipo de recomendación personilizada, y se procede a realizar simplemente la recomendación de los articulos o items más populares.\n",
        "\n",
        "Los datos que usaremos en este problema especifico, serán sobre las transacciones de un determinado número de productos, que facilitaran la identificación de los productos más populares, que serán los recomendados a los nuevos clientes.\n"
      ],
      "metadata": {
        "id": "H0juANgDCiB1"
      }
    },
    {
      "cell_type": "code",
      "source": [
        "###############################################################################\n",
        "############################## Data Wrangling #################################\n",
        "###############################################################################\n",
        "\n",
        "#Leemos desde internet un archivo csv y lo almacenamos en un DataFrame de Pandas\n",
        "import pandas as pd #Importamos pandas para la lectura de los datos a utilizar.\n",
        "import numpy as np #Importamos numpy para el manejo de los datos.\n",
        "\n",
        "interacciones = pd.read_csv('https://bradfordtuckfield.com/purchasehistory1.csv') #Definimos la variable 'Interacciones' donde se almacenarán las interacciones registradas entre los clientes y los productos.\n",
        "interacciones.set_index('Unnamed: 0', inplace = True) #Establecemos la columna que contiene los items como el índice.\n",
        "print(interacciones)\n",
        "\n",
        "#Obtenemos la matriz de interacciones"
      ],
      "metadata": {
        "colab": {
          "base_uri": "https://localhost:8080/"
        },
        "id": "4CIjeKP7jP0V",
        "outputId": "80d00b96-0637-4ffe-9073-faffa87e45a3"
      },
      "execution_count": 20,
      "outputs": [
        {
          "output_type": "stream",
          "name": "stdout",
          "text": [
            "            user1  user2  user3  user4  user5\n",
            "Unnamed: 0                                   \n",
            "item1           1      1      0      1      1\n",
            "item2           1      0      1      1      0\n",
            "item3           1      1      0      1      1\n",
            "item4           1      0      1      0      1\n",
            "item5           1      1      0      0      1\n"
          ]
        }
      ]
    },
    {
      "cell_type": "markdown",
      "source": [
        "Obtenemos la matriz de interacciones, en donde un valor de '0' signifaca que un producto no fue seleccionado por el cliente y un valor de '1' indica que el producto si fue seleccionado por el cliente.\n",
        "\n",
        "Una vez obtenemos la matriz de interacciones, creamos una lista con los items mas populares para proceder a recomendar dichos productos"
      ],
      "metadata": {
        "id": "pbeAVnM3mATj"
      }
    },
    {
      "cell_type": "code",
      "source": [
        "#Ratind de productos\n",
        "conteo_interacciones = interacciones.copy()\n",
        "conteo_interacciones.loc[:, 'conteo'] = conteo_interacciones.sum(axis = 1) #Toma la suma de de los productos seleccionados en cada fila y guarda el resultado en una nueva columna llamada conteo\n",
        "conteo_interacciones = conteo_interacciones.sort_values(by='conteo', ascending = False) #Organiza las filas de la más a la menos popular\n",
        "print(list(conteo_interacciones.index)) #Imprimimos el rating de los productos"
      ],
      "metadata": {
        "colab": {
          "base_uri": "https://localhost:8080/"
        },
        "id": "MEoz_H1KlCOD",
        "outputId": "76f1bb37-d185-4a2d-d034-5886ddf0398a"
      },
      "execution_count": 21,
      "outputs": [
        {
          "output_type": "stream",
          "name": "stdout",
          "text": [
            "['item1', 'item3', 'item2', 'item4', 'item5']\n"
          ]
        }
      ]
    },
    {
      "cell_type": "markdown",
      "source": [
        "Una vez obtenido el rating de los productos, ahora podemos proceder a hacer las recomendaciones a los clientes. La forma en que se presentan las recomendaciones depende de la estrategía de marqueting utilizada"
      ],
      "metadata": {
        "id": "l9f_6XhG4rlY"
      }
    },
    {
      "cell_type": "code",
      "source": [
        "#Creando el sistema de recomendaciones\n",
        "def popularidad(interacciones): #Creamos la función para determinar la popularidad de los productos\n",
        "  conteo_interacciones = interacciones.copy() #Creamos una copia de la matriz de interacciones\n",
        "  conteo_interacciones.loc[:, 'conteo'] = conteo_interacciones.sum(axis = 1)\n",
        "  ranking = conteo_interacciones.sort_values(by = 'conteo', ascending = False) #Aquí obtenemos el ranking ene orden ascendente de los productos más populares\n",
        "  mas_populares = list(ranking.set_index)\n",
        "  return(mas_populares)"
      ],
      "metadata": {
        "id": "xNcYDxBs5FOo"
      },
      "execution_count": 22,
      "outputs": []
    },
    {
      "cell_type": "markdown",
      "source": [
        "#Filtrado Colaborativo Basado en Elementos\n",
        "\n",
        "Para este caso no se tiene en sí un problema de arranque en frío, en cambio se tiene un poco de información sobre los usuarios, por ejemplo, se sabe que estan interesados particularmente en el 'item 1'. Esta información es todo lo que necesitas para desarrollar un sistema de filtrado colaborativo basado en elementos.\n",
        "\n",
        "Demos un vistazo nuevamente a nuestra matriz de interacciones para hacerno a una idea de como se podría recomendar por ejemplo, a un usuario que este interesado en el item 1."
      ],
      "metadata": {
        "id": "2G3A-pvu7CWq"
      }
    },
    {
      "cell_type": "code",
      "source": [
        "print(interacciones) #Imprimimos la matriz de interacciones"
      ],
      "metadata": {
        "colab": {
          "base_uri": "https://localhost:8080/"
        },
        "id": "rAVwOMPT6Gci",
        "outputId": "3f6edc3a-ae12-4742-9f77-b81c6bfc0f92"
      },
      "execution_count": 23,
      "outputs": [
        {
          "output_type": "stream",
          "name": "stdout",
          "text": [
            "            user1  user2  user3  user4  user5\n",
            "Unnamed: 0                                   \n",
            "item1           1      1      0      1      1\n",
            "item2           1      0      1      1      0\n",
            "item3           1      1      0      1      1\n",
            "item4           1      0      1      0      1\n",
            "item5           1      1      0      0      1\n"
          ]
        }
      ]
    },
    {
      "cell_type": "markdown",
      "source": [
        "Si observamos la fila 1 de la matriz de interacciones, podemos notar que todos los usuarios, menos el usuarios 3 'user3' estan interesados en el item1. Si analizamos el item3, podemos observas que tiene exactamente el mismo historial de interacciones del item1. Podemos concluir que se estos dos productos fueron seleccionados por los usuarios de igual forma en el pasado, el evento podría repetirse en el futuro.\n",
        "\n",
        "De igual forma, si analizamos el historial de interacciones de los items 1 y 2, se puede concluir que si no fueron seleccionados de igual forma en el pasado, muy seguramente no sucedera así, en el futuro.\n",
        "\n",
        "El hecho es, que si un usuario esta interesado en un articulo o producto, tendría logica recomendarle productos que tengan un hostorial de interacciones lo más parecido, al historial del producto sobre el cual se sabe que ya había tenido algún interes.\n",
        "\n",
        "Para llevar a cabo esto, se puede medir la similaridad entre los vectores.\n"
      ],
      "metadata": {
        "id": "0-S2fv6N8uUF"
      }
    },
    {
      "cell_type": "markdown",
      "source": [
        "###Similaridad entre vectores\n",
        "\n",
        "Miremos de más cerca el historial de interacciones de un item, para tener una idea de como puede medirse cuantitativamente su similaridad"
      ],
      "metadata": {
        "id": "YNeWb-yb-4-C"
      }
    },
    {
      "cell_type": "code",
      "source": [
        "print(list(interacciones.loc['item1'])) #Imprimimos el historial de interacciones del"
      ],
      "metadata": {
        "colab": {
          "base_uri": "https://localhost:8080/"
        },
        "id": "3UER7kJ08oHG",
        "outputId": "36a96a24-ae2e-4331-b25a-e88f9beea411"
      },
      "execution_count": 24,
      "outputs": [
        {
          "output_type": "stream",
          "name": "stdout",
          "text": [
            "[1, 1, 0, 1, 1]\n"
          ]
        }
      ]
    },
    {
      "cell_type": "markdown",
      "source": [
        "Python interperta esta colección de interacciones como una lista. Otra forma de interpretarla sería como una matriz. Más importante aún, podemos interpretarlo como un vector. A este conjunto de vectores podemos cuantificarle su similaridad.\n",
        "\n",
        "El menor angulo posible entre dos vectores es cero '0', lo que significa que significa que estos apuntan exactamente hacia la misma dirección (Estan sobrepuestos)\n",
        "\n",
        "Para este caso la función coseno es sumamente importnate y es a través de la cuál nos valdremos para calcular dicha similitud entre los pares de vectores que representan las interacciones para cada producto"
      ],
      "metadata": {
        "id": "BNXTK-w9_6e6"
      }
    },
    {
      "cell_type": "markdown",
      "source": [
        "###Calculando La Similaridad Coseno\n",
        "\n",
        "![image.png](data:image/png;base64,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)\n",
        "\n",
        "Las siguientes líneas de código representan el producto punto. Una forma particular de multiplicar vectores. Para calcular la similitud Coseno debemos tambíen calcular la norma del vector.\n",
        "\n",
        "El Coseno del angulo entre dos vectores (que es, la similaridad coseno entre dos vectores) es el producto punto del par de vectores divido entre el producto de la norma de los vectores. Podemos crear una función de Python que calcule la similaridad coseno, usando un par de funciones que se definen en las siguientes líneas de código."
      ],
      "metadata": {
        "id": "okSXQEPvB0Zk"
      }
    },
    {
      "cell_type": "code",
      "source": [
        "###############################################################################\n",
        "############################# Similitud Coseno ################################\n",
        "###############################################################################\n",
        "\n",
        "#Producto Punto\n",
        "def el_producto_punto(vector1, vector2):\n",
        "  producto_punto = np.sum([vector1[k]*vector2[k] for k in range(0, len(vector1))])\n",
        "  return(producto_punto)"
      ],
      "metadata": {
        "id": "qlblHBch_wTX"
      },
      "execution_count": 25,
      "outputs": []
    },
    {
      "cell_type": "code",
      "source": [
        "#Norma del vector\n",
        "def vector_norm(vector):\n",
        "  norma = np.sqrt(el_producto_punto(vector, vector))\n",
        "  return(norma)"
      ],
      "metadata": {
        "id": "Q7APeyq2D531"
      },
      "execution_count": 26,
      "outputs": []
    },
    {
      "cell_type": "code",
      "source": [
        "#Similaridad Coseno\n",
        "def similaridad_coseno(vector1, vector2):\n",
        "  producto_punto = el_producto_punto(vector1, vector2)\n",
        "  coseno = producto_punto/(vector_norm(vector1)*vector_norm(vector2))\n",
        "  coseno = np.round(coseno, 4)\n",
        "  return(coseno)"
      ],
      "metadata": {
        "id": "94zqAVDYFaQl"
      },
      "execution_count": 27,
      "outputs": []
    },
    {
      "cell_type": "markdown",
      "source": [
        "###Similaridad Coseno entre los items de nuestro ejemplo\n",
        "\n",
        "La similaridad coseno, es la similitud común que calculan muchas aplicaciones de en Ciencia de Datos, no solo para sistemas de recomendación. Ahora vamos a utilizar la fucnión que acabamos de desarrollar para calcular a similaridad usando los vectores asociados a las distintas colecciones de interacciones para los items del sistema de recomendación que estamos desarrollando.\n",
        "\n",
        "Como se ppodrá observar, la similaridad coseno entre el item1 y el item3 es de 1, es decir, el angulo entre el par de vectores es cero '0' lo que confirma que dichos items tienen exactamente el mismo historial de interacciones."
      ],
      "metadata": {
        "id": "jF5a0bHmGa1G"
      }
    },
    {
      "cell_type": "code",
      "source": [
        "import numpy as np #Impotamos numpy para el procesamiento de los datos\n",
        "item1 = interacciones.loc['item1'] #Definimos el vector asociado al item1\n",
        "item3 = interacciones.loc['item3'] #Definimos el vector asociado al item3\n",
        "print(similaridad_coseno(item1, item3))"
      ],
      "metadata": {
        "colab": {
          "base_uri": "https://localhost:8080/"
        },
        "id": "RS1VQYzAGQ_u",
        "outputId": "59354c19-07d3-4162-ccf3-e5a464c46429"
      },
      "execution_count": 28,
      "outputs": [
        {
          "output_type": "stream",
          "name": "stdout",
          "text": [
            "1.0\n"
          ]
        },
        {
          "output_type": "stream",
          "name": "stderr",
          "text": [
            "<ipython-input-25-aa5b6c6c22f6>:7: FutureWarning: Series.__getitem__ treating keys as positions is deprecated. In a future version, integer keys will always be treated as labels (consistent with DataFrame behavior). To access a value by position, use `ser.iloc[pos]`\n",
            "  producto_punto = np.sum([vector1[k]*vector2[k] for k in range(0, len(vector1))])\n"
          ]
        }
      ]
    },
    {
      "cell_type": "markdown",
      "source": [],
      "metadata": {
        "id": "sFJdV_F2IzSX"
      }
    },
    {
      "cell_type": "markdown",
      "source": [
        "De igual manera podemos calcular la similaridad coseno para un par de vectores que nos sean exactamente iguales. observemos el caso para el par de vectores asociados a los items 2 y 5 (item2, item5).\n",
        "\n",
        "Como es de esperarse, se observa que el resultado para la similaridad coseno del par de vectores asociados a los items 2 y 5 (item2, item5) nos arroja un resultado diferente de 1, ya que el angulo entre estos es diferente de cero '0', confirmando que los items tienen un grado de similitud, pero no son exactamente identicos"
      ],
      "metadata": {
        "id": "mVMazS8XJePr"
      }
    },
    {
      "cell_type": "code",
      "source": [
        "item2 = list(interacciones.loc['item2', :])\n",
        "item5 = list(interacciones.loc['item5', :])\n",
        "print(similaridad_coseno(item2, item5))"
      ],
      "metadata": {
        "colab": {
          "base_uri": "https://localhost:8080/"
        },
        "id": "Ci24ilIAJwvT",
        "outputId": "5024053e-4462-4668-c541-d46f37cf6d62"
      },
      "execution_count": 29,
      "outputs": [
        {
          "output_type": "stream",
          "name": "stdout",
          "text": [
            "0.3333\n"
          ]
        }
      ]
    },
    {
      "cell_type": "markdown",
      "source": [
        "##Implementación del sistema de filtrado colaborativo basado en elementos\n",
        "\n",
        "Pensemos en un escenario hipotetico de ventas con su respectivo vendedor, donde tienes tu respectiva matriz de interacciones que describe la elecciones que han hecho los clientes respectos a varios productos (items). Ahora ingresa un nuevo cliente al escenario descrito y la unica información que se tiene sobre el es que tiene interes en el item1. ¿Que recomendación deberías hacerle?\n",
        "\n",
        "Puedes hacer el ranking de similitud en el historial de interacciones de dicho articuo 'item1' resoecto a los demás articulos (items) y recomendarle los productos en base a dicha similitud respecto al artiuclo de su interes (item1)"
      ],
      "metadata": {
        "id": "6-MPe4zJK42l"
      }
    },
    {
      "cell_type": "code",
      "source": [
        "articulo_de_interes = 'item1' #Creamos la variable 'articulo_de_interes' para almacenar el item de interes que ya se conoce sobre el nuevo cliente\n",
        "otros_articulos = [nombre_articulo for nombre_articulo in interacciones.index if nombre_articulo != articulo_de_interes]\n",
        "otros_articulos = interacciones.loc[otros_articulos, :]\n",
        "el_articulo = interacciones.loc[articulo_de_interes, :]"
      ],
      "metadata": {
        "id": "YJaRlOvoKIQ_"
      },
      "execution_count": 30,
      "outputs": []
    },
    {
      "cell_type": "markdown",
      "source": [
        "Ahora podremos calcular que tan similares son cada uno de los articulos coleccionados dentro de nuestra base de datos y hacer las respectivas recomnedaciones a los nuevos clientes, basados en que tan similares sea el articulo de interes que conocemos de antemano, con los otros articulos de nuestro stock"
      ],
      "metadata": {
        "id": "PXZbB0zrlh1O"
      }
    },
    {
      "cell_type": "code",
      "source": [
        "similaridades = [] #Creamos una lista vacia en donde se almacenarán los artiuclos similares que deberían recomendarse al nuevo cliente\n",
        "for articulos in otros_articulos.index:\n",
        "  similaridades.append(similaridad_coseno(el_articulo, otros_articulos.loc[articulos, :]))\n",
        "\n",
        "otros_articulos['Similaridades'] = similaridades\n",
        "recomendaciones = list(otros_articulos.sort_values(by = 'Similaridades', ascending = False).index)"
      ],
      "metadata": {
        "colab": {
          "base_uri": "https://localhost:8080/"
        },
        "id": "G_veTmidmBt2",
        "outputId": "2ab6eed0-6003-4193-bbd3-43ce02052270"
      },
      "execution_count": 31,
      "outputs": [
        {
          "output_type": "stream",
          "name": "stderr",
          "text": [
            "<ipython-input-25-aa5b6c6c22f6>:7: FutureWarning: Series.__getitem__ treating keys as positions is deprecated. In a future version, integer keys will always be treated as labels (consistent with DataFrame behavior). To access a value by position, use `ser.iloc[pos]`\n",
            "  producto_punto = np.sum([vector1[k]*vector2[k] for k in range(0, len(vector1))])\n"
          ]
        }
      ]
    },
    {
      "cell_type": "markdown",
      "source": [
        "En las líneas de código arriba, creamos la varaiable similaridades, que comienza como uan lista vacia. Luego creamos un loop que calcula la similaridad coseno entre nuestro producto y todos los demás productos disponibles en el stock. Finalmente obtenemos nuestra lista de recomendaciones. Unam lista que muestra los articulos más similares al articulo cuya preferencia por parte del usuario ya era conocida"
      ],
      "metadata": {
        "id": "vFqhTnqEowv9"
      }
    },
    {
      "cell_type": "code",
      "source": [
        "def recomendación_articulos(interacciones, nombre_articulo):\n",
        "  otras_filas = [nombre_articulo_rec for nombre_articulo_rec in interacciones.index if nombre_articulo_rec != nombre_articulo]\n",
        "  otros_articulos = interacciones.loc[otras_filas, :]\n",
        "  el_articulo = list(interacciones.loc[nombre_articulo, :])\n",
        "  similaridades = []\n",
        "  for articulos in otros_articulos.index: # Iteración sobre el índice del dataframe\n",
        "    similaridades.append(similaridad_coseno(el_articulo, otros_articulos.loc[articulos, :]))\n",
        "  otros_articulos['Similaridades'] = similaridades\n",
        "  return list(otros_articulos.sort_values(by = 'Similaridades', ascending = False).index)"
      ],
      "metadata": {
        "id": "ku-ipftqsO_a"
      },
      "execution_count": 40,
      "outputs": []
    },
    {
      "cell_type": "markdown",
      "source": [
        "Ahora podemos probar nuestro sistema de recomendación que nos arrojará una lista con los items que se podrían recomendar a un nuevo cliente del cual se sabe previamente que tenia cierta preferncia por el item1 de nuestro stock"
      ],
      "metadata": {
        "id": "j1-Pr1hKsStt"
      }
    },
    {
      "cell_type": "code",
      "source": [
        "recomendación_articulos(interacciones, 'item1')"
      ],
      "metadata": {
        "colab": {
          "base_uri": "https://localhost:8080/"
        },
        "id": "tlDjNORMr5xL",
        "outputId": "01e158be-5e54-4bc9-e362-22e4b4bb10a5"
      },
      "execution_count": 41,
      "outputs": [
        {
          "output_type": "stream",
          "name": "stderr",
          "text": [
            "<ipython-input-25-aa5b6c6c22f6>:7: FutureWarning: Series.__getitem__ treating keys as positions is deprecated. In a future version, integer keys will always be treated as labels (consistent with DataFrame behavior). To access a value by position, use `ser.iloc[pos]`\n",
            "  producto_punto = np.sum([vector1[k]*vector2[k] for k in range(0, len(vector1))])\n"
          ]
        },
        {
          "output_type": "execute_result",
          "data": {
            "text/plain": [
              "['item3', 'item5', 'item2', 'item4']"
            ]
          },
          "metadata": {},
          "execution_count": 41
        }
      ]
    }
  ]
}